{
 "cells": [
  {
   "cell_type": "code",
   "execution_count": 1,
   "metadata": {},
   "outputs": [],
   "source": [
    "def text_to_coe(input_file, output_file, radix=2):\n",
    "    try:\n",
    "        with open(input_file, 'r') as f:\n",
    "            values = f.read().split()\n",
    "        \n",
    "        with open(output_file, 'w') as coe_file:\n",
    "            coe_file.write(\"memory_initialization_radix={};\\n\".format(radix))\n",
    "            coe_file.write(\"memory_initialization_vector=\\n\")\n",
    "            \n",
    "            for i, value in enumerate(values):\n",
    "                if i < len(values) - 1:\n",
    "                    coe_file.write(\"{},\".format(value))\n",
    "                else:\n",
    "                    coe_file.write(\"{};\".format(value))\n",
    "                coe_file.write(\"\\n\")\n",
    "        print(f\"Successfully converted {input_file} to {output_file}\")\n",
    "    except Exception as e:\n",
    "        print(f\"Error: {e}\")"
   ]
  },
  {
   "cell_type": "code",
   "execution_count": 2,
   "metadata": {},
   "outputs": [
    {
     "name": "stdout",
     "output_type": "stream",
     "text": [
      "Successfully converted mem.txt to output.coe\n"
     ]
    }
   ],
   "source": [
    "input_text_file = \"mem.txt\"\n",
    "output_coe_file = \"output.coe\"\n",
    "text_to_coe(input_text_file, output_coe_file, 2)"
   ]
  },
  {
   "cell_type": "code",
   "execution_count": null,
   "metadata": {},
   "outputs": [],
   "source": []
  }
 ],
 "metadata": {
  "kernelspec": {
   "display_name": "Python 3",
   "language": "python",
   "name": "python3"
  },
  "language_info": {
   "codemirror_mode": {
    "name": "ipython",
    "version": 3
   },
   "file_extension": ".py",
   "mimetype": "text/x-python",
   "name": "python",
   "nbconvert_exporter": "python",
   "pygments_lexer": "ipython3",
   "version": "3.11.9"
  }
 },
 "nbformat": 4,
 "nbformat_minor": 2
}
